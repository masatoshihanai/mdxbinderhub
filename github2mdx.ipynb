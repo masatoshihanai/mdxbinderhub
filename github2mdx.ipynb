{
 "cells": [
  {
   "cell_type": "code",
   "execution_count": 1,
   "id": "d33bc9cc-5730-4351-a1bb-130f3a7e49cb",
   "metadata": {},
   "outputs": [
    {
     "name": "stdout",
     "output_type": "stream",
     "text": [
      "Access mdx at 2022-06-13 21:23:41.822115\n",
      " ,--.   ,--.       ,--.                                  ,--------.                       ,--. \n",
      " |  |   |  | ,---. |  | ,---. ,---. ,--,--,--. ,---.     '--.  .--',---.     ,--,--,--. ,-|  |,--.  ,--.    \n",
      " |  |.'.|  || .-. :|  || .--'| .-. ||        || .-. :       |  |  | .-. |    |        |' .-. | \\  `'  /     \n",
      " |   ,'.   |\\   --.|  |\\ `--.' '-' '|  |  |  |\\   --.       |  |  ' '-' '    |  |  |  |\\ `-' | /  /.  \\ \n",
      " '--'   '--' `----'`--' `---' `---' `--`--`--' `----'       `--'   `---'     `--`--`--' `---' '--'  '--' \n"
     ]
    }
   ],
   "source": [
    "import welcome;welcome.welcome()"
   ]
  },
  {
   "cell_type": "code",
   "execution_count": 2,
   "id": "ff7e50cd-34d0-4a2b-bf26-add74b17c2ca",
   "metadata": {},
   "outputs": [
    {
     "name": "stdout",
     "output_type": "stream",
     "text": [
      "     ____                   __                                __ \n",
      "    / __ )__  _____        / /_  __  _____     ____ ___  ____/ /  __ \n",
      "   / __  / / / / _ \\______/ __ \\/ / / / _ \\   / __ `__ \\/ __  / |/_/ \n",
      "  / /_/ / /_/ /  __/_____/ /_/ / /_/ /  __/  / / / / / / /_/ />  <  \n",
      " /_____/\\__, /\\___/     /_.___/\\__, /\\___/  /_/ /_/ /_/\\__,_/_/|_|  \n",
      "      /____/                 /____/                                \n"
     ]
    }
   ],
   "source": [
    "welcome.bye()"
   ]
  },
  {
   "cell_type": "code",
   "execution_count": null,
   "id": "0b7b49c0-e7cc-4e40-9c29-c77f7791e767",
   "metadata": {},
   "outputs": [],
   "source": []
  }
 ],
 "metadata": {
  "kernelspec": {
   "display_name": "Python 3 (ipykernel)",
   "language": "python",
   "name": "python3"
  },
  "language_info": {
   "codemirror_mode": {
    "name": "ipython",
    "version": 3
   },
   "file_extension": ".py",
   "mimetype": "text/x-python",
   "name": "python",
   "nbconvert_exporter": "python",
   "pygments_lexer": "ipython3",
   "version": "3.9.12"
  }
 },
 "nbformat": 4,
 "nbformat_minor": 5
}
