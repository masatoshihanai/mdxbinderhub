{
 "cells": [
  {
   "cell_type": "code",
   "execution_count": null,
   "id": "ad334d28-92ca-4c0c-a6fe-510c9768ebf4",
   "metadata": {},
   "outputs": [],
   "source": [
    "import welcome;welcome.welcome()"
   ]
  },
  {
   "cell_type": "markdown",
   "id": "bd6e8bc3-410f-43b4-bd8b-ceea90d816fe",
   "metadata": {},
   "source": [
    "# Go to [mdxの利用](https://prjpl.mdx.jp/application-portal/)"
   ]
  },
  {
   "cell_type": "markdown",
   "id": "3e16090d-ecc3-4318-9bfa-3f14a3867094",
   "metadata": {},
   "source": [
    "# Go to [NII BinderHub via Gakunin Account](https://binder.cs.rcos.nii.ac.jp/v2/gh/masatoshihanai/mdxbinderhub/HEAD?filepath=toGakunin.ipynb)"
   ]
  },
  {
   "cell_type": "code",
   "execution_count": null,
   "id": "67a51e14-7381-4d0f-ab02-1d1d0ae24469",
   "metadata": {},
   "outputs": [],
   "source": []
  }
 ],
 "metadata": {
  "kernelspec": {
   "display_name": "Python 3 (ipykernel)",
   "language": "python",
   "name": "python3"
  },
  "language_info": {
   "codemirror_mode": {
    "name": "ipython",
    "version": 3
   },
   "file_extension": ".py",
   "mimetype": "text/x-python",
   "name": "python",
   "nbconvert_exporter": "python",
   "pygments_lexer": "ipython3",
   "version": "3.9.12"
  }
 },
 "nbformat": 4,
 "nbformat_minor": 5
}
