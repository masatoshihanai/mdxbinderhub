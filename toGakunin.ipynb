{
 "cells": [
  {
   "cell_type": "code",
   "execution_count": null,
   "id": "ad334d28-92ca-4c0c-a6fe-510c9768ebf4",
   "metadata": {},
   "outputs": [],
   "source": [
    "import welcome;welcome.welcome()"
   ]
  },
  {
   "cell_type": "markdown",
   "id": "0288269c-5ca9-4b73-b62d-ce16556732b1",
   "metadata": {},
   "source": [
    "# Go to [mdx.jp](http://mdx.jp)"
   ]
  },
  {
   "cell_type": "markdown",
   "id": "bd6e8bc3-410f-43b4-bd8b-ceea90d816fe",
   "metadata": {},
   "source": [
    "# Go to [mdxの利用](https://prjpl.mdx.jp/application-portal/)"
   ]
  },
  {
   "cell_type": "markdown",
   "id": "3e16090d-ecc3-4318-9bfa-3f14a3867094",
   "metadata": {},
   "source": [
    "# Go to [NII BinderHub via Gakunin Account](https://binder.cs.rcos.nii.ac.jp/v2/gh/masatoshihanai/mdxbinderhub/HEAD?filepath=toGakunin.ipynb)"
   ]
  },
  {
   "cell_type": "code",
   "execution_count": null,
   "id": "003174f4-c486-490c-8a2a-3e068f7e8188",
   "metadata": {},
   "outputs": [],
   "source": []
  }
 ],
 "metadata": {
  "kernelspec": {
   "display_name": "Python 3 (ipykernel)",
   "language": "python",
   "name": "python3"
  },
  "language_info": {
   "codemirror_mode": {
    "name": "ipython",
    "version": 3
   },
   "file_extension": ".py",
   "mimetype": "text/x-python",
   "name": "python",
   "nbconvert_exporter": "python",
   "pygments_lexer": "ipython3",
   "version": "3.9.12"
  }
 },
 "nbformat": 4,
 "nbformat_minor": 5
}
